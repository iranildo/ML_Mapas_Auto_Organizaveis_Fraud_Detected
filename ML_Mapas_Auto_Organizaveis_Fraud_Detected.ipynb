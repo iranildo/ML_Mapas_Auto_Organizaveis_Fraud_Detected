{
  "nbformat": 4,
  "nbformat_minor": 0,
  "metadata": {
    "colab": {
      "name": "ML_Mapas Auto Organizaveis - Fraud Detected.ipynb",
      "provenance": [],
      "collapsed_sections": [],
      "authorship_tag": "ABX9TyPy+flDqqzJaDVS0eOD3xPm"
    },
    "kernelspec": {
      "name": "python3",
      "display_name": "Python 3"
    },
    "language_info": {
      "name": "python"
    }
  },
  "cells": [
    {
      "cell_type": "markdown",
      "source": [
        "# Mapas Auto-organizaveis\n",
        "*Identificando* fraudes em clientes de cartão de crédito"
      ],
      "metadata": {
        "id": "Vy9gVFjEmG1H"
      }
    },
    {
      "cell_type": "code",
      "execution_count": 1,
      "metadata": {
        "id": "-omwEGJXlr_C"
      },
      "outputs": [],
      "source": [
        "#importando as bibliotecas\n",
        "import numpy as np\n",
        "import matplotlib.pyplot as plt\n",
        "import pandas as pd"
      ]
    },
    {
      "cell_type": "code",
      "source": [
        "#importando nossos dados para o dataset\n",
        "dataset = pd.read_csv('Credit_Card_Applications.csv')\n",
        "X = dataset.iloc[:, :-1].values\n",
        "y = dataset.iloc[:, -1].values"
      ],
      "metadata": {
        "id": "-xTPcWTBmOm-"
      },
      "execution_count": 2,
      "outputs": []
    },
    {
      "cell_type": "code",
      "source": [
        "#Reealizando o Featuring Scale\n",
        "from sklearn.preprocessing import MinMaxScaler\n",
        "sc = MinMaxScaler(feature_range = (0, 1))\n",
        "X = sc.fit_transform(X)"
      ],
      "metadata": {
        "id": "-fhgP2G2mOj1"
      },
      "execution_count": 3,
      "outputs": []
    },
    {
      "cell_type": "code",
      "source": [
        "#importando a biblioteca de SOM\n",
        "from minisom import MiniSom"
      ],
      "metadata": {
        "id": "pO5UW4iomOg9"
      },
      "execution_count": 4,
      "outputs": []
    },
    {
      "cell_type": "code",
      "source": [
        "#criando o objeto SOM\n",
        "som = MiniSom(x = 10, y = 10, input_len = 15, sigma = 1.0, learning_rate = 0.5)\n"
      ],
      "metadata": {
        "id": "_JL1_Lc4mOeF"
      },
      "execution_count": 5,
      "outputs": []
    },
    {
      "cell_type": "code",
      "source": [
        "#inicializamos os pesos\n",
        "som.random_weights_init(X)"
      ],
      "metadata": {
        "id": "qwe8AhncmOa2"
      },
      "execution_count": 6,
      "outputs": []
    },
    {
      "cell_type": "code",
      "source": [
        "#treinando\n",
        "som.train_random(data = X, num_iteration = 100)"
      ],
      "metadata": {
        "id": "KKLu6N2bmOXm"
      },
      "execution_count": 7,
      "outputs": []
    },
    {
      "cell_type": "code",
      "source": [
        "#visualizamos os resultados\n",
        "from pylab import bone, pcolor, colorbar, plot, show\n",
        "bone()\n",
        "pcolor(som.distance_map().T)\n",
        "colorbar()\n",
        "markers = ['o', 's']\n",
        "colors = ['r', 'g']"
      ],
      "metadata": {
        "colab": {
          "base_uri": "https://localhost:8080/",
          "height": 269
        },
        "id": "355SuPU5mOSO",
        "outputId": "d8950eae-63b0-427f-afb6-203b95d61da4"
      },
      "execution_count": 8,
      "outputs": [
        {
          "output_type": "display_data",
          "data": {
            "text/plain": [
              "<Figure size 432x288 with 2 Axes>"
            ],
            "image/png": "[encoded data removed]"
          },
          "metadata": {
            "needs_background": "light"
          }
        }
      ]
    },
    {
      "cell_type": "code",
      "source": [
        "for i, x in enumerate(X):\n",
        "    w = som.winner(x) \n",
        "    plot(w[0] + 0.5, \n",
        "         w[1] + 0.5, \n",
        "         markers[y[i]], \n",
        "         markeredgecolor = colors[y[i]], \n",
        "         markerfacecolor = 'None', \n",
        "         markersize = 10,\n",
        "         markeredgewidth = 2) \n",
        "show()\n"
      ],
      "metadata": {
        "colab": {
          "base_uri": "https://localhost:8080/",
          "height": 265
        },
        "id": "XSLk8c3qmOJe",
        "outputId": "e6af66a5-dbce-426b-f9e1-664cd195dce0"
      },
      "execution_count": 9,
      "outputs": [
        {
          "output_type": "display_data",
          "data": {
            "text/plain": [
              "<Figure size 432x288 with 1 Axes>"
            ],
            "image/png": "[encoded data removed]"
          },
          "metadata": {
            "needs_background": "light"
          }
        }
      ]
    }
  ]
}